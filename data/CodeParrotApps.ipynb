{
 "cells": [
  {
   "cell_type": "code",
   "execution_count": 252,
   "id": "a1d036ab",
   "metadata": {},
   "outputs": [],
   "source": [
    "import json\n",
    "from datasets import load_dataset\n",
    "from tree_sitter import Language, Parser\n",
    "import numpy as np"
   ]
  },
  {
   "cell_type": "code",
   "execution_count": 253,
   "id": "f090dbce",
   "metadata": {},
   "outputs": [],
   "source": [
    "Language.build_library(\n",
    "  # Store the library in the `build` directory\n",
    "  'build/my-languages.so',\n",
    "\n",
    "  # Include one or more languages\n",
    "  [\n",
    "    'tree-sitter-python'\n",
    "  ]\n",
    ")\n",
    "PY_LANGUAGE = Language('build/my-languages.so', 'python')\n",
    "parser = Parser()\n",
    "parser.set_language(PY_LANGUAGE)"
   ]
  },
  {
   "cell_type": "code",
   "execution_count": 254,
   "id": "fbd49023",
   "metadata": {},
   "outputs": [],
   "source": [
    "def custom_read_callable(src_lines):\n",
    "    def read_callable(byte_offset, point):\n",
    "        row, column = point\n",
    "        if row >= len(src_lines) or column >= len(src_lines[row]):\n",
    "            return None\n",
    "        return src_lines[row][column:].encode('utf8')\n",
    "    return read_callable"
   ]
  },
  {
   "cell_type": "code",
   "execution_count": 255,
   "id": "a446ff06",
   "metadata": {},
   "outputs": [],
   "source": [
    "def labels(src_lines, node, line_num=0):\n",
    "    resp = []\n",
    "    for child in node.children:\n",
    "        if child.type == 'comment':\n",
    "            continue\n",
    "        elif child.type == 'block':\n",
    "            resp += labels(src_lines, child, child.start_point[0])\n",
    "        elif child.start_point[0] == child.end_point[0] and child.start_point[0] >= line_num:\n",
    "            resp.append((child.type, src_lines[child.start_point[0]][:-1].replace('    ', '[tab]')))\n",
    "            line_num = child.start_point[0]\n",
    "        elif child.start_point[0] >= line_num:\n",
    "            resp += labels(src_lines, child, child.start_point[0])\n",
    "            line_num = child.start_point[0]\n",
    "        line_num += 1\n",
    "    return resp"
   ]
  },
  {
   "cell_type": "code",
   "execution_count": 256,
   "id": "c7908cbc",
   "metadata": {},
   "outputs": [],
   "source": [
    "def label_code(solution):\n",
    "    src_lines =  [e+'\\n' for e in solution.split('\\n') if e]\n",
    "    root_node = parser.parse(custom_read_callable(src_lines)).root_node\n",
    "    return labels(src_lines, root_node)"
   ]
  },
  {
   "cell_type": "code",
   "execution_count": 257,
   "id": "770ba16c",
   "metadata": {},
   "outputs": [
    {
     "name": "stderr",
     "output_type": "stream",
     "text": [
      "No config specified, defaulting to: apps/all\n",
      "Found cached dataset apps (/Users/swapnilsharma/.cache/huggingface/datasets/codeparrot___apps/all/0.0.0/04ac807715d07d6e5cc580f59cdc8213cd7dc4529d0bb819cca72c9f8e8c1aa5)\n"
     ]
    }
   ],
   "source": [
    "dataset = load_dataset(\"codeparrot/apps\", split=\"train\")"
   ]
  },
  {
   "cell_type": "code",
   "execution_count": 258,
   "id": "ba351ea3",
   "metadata": {},
   "outputs": [
    {
     "name": "stderr",
     "output_type": "stream",
     "text": [
      "No config specified, defaulting to: apps/all\n",
      "Found cached dataset apps (/Users/swapnilsharma/.cache/huggingface/datasets/codeparrot___apps/all/0.0.0/04ac807715d07d6e5cc580f59cdc8213cd7dc4529d0bb819cca72c9f8e8c1aa5)\n"
     ]
    },
    {
     "data": {
      "application/vnd.jupyter.widget-view+json": {
       "model_id": "6b67efab36844c80a05882c10a8e1045",
       "version_major": 2,
       "version_minor": 0
      },
      "text/plain": [
       "  0%|          | 0/2 [00:00<?, ?it/s]"
      ]
     },
     "metadata": {},
     "output_type": "display_data"
    },
    {
     "name": "stderr",
     "output_type": "stream",
     "text": [
      "Loading cached processed dataset at /Users/swapnilsharma/.cache/huggingface/datasets/codeparrot___apps/all/0.0.0/04ac807715d07d6e5cc580f59cdc8213cd7dc4529d0bb819cca72c9f8e8c1aa5/cache-53cf1e86c6ee9cc7.arrow\n",
      "Loading cached processed dataset at /Users/swapnilsharma/.cache/huggingface/datasets/codeparrot___apps/all/0.0.0/04ac807715d07d6e5cc580f59cdc8213cd7dc4529d0bb819cca72c9f8e8c1aa5/cache-92de84b270017841.arrow\n"
     ]
    },
    {
     "data": {
      "application/vnd.jupyter.widget-view+json": {
       "model_id": "d227703db6a94b1689ebef89812fa245",
       "version_major": 2,
       "version_minor": 0
      },
      "text/plain": [
       "  0%|          | 0/5000 [00:00<?, ?ex/s]"
      ]
     },
     "metadata": {},
     "output_type": "display_data"
    },
    {
     "data": {
      "application/vnd.jupyter.widget-view+json": {
       "model_id": "e9fdb5d1d069433eb99044e6b5b8508e",
       "version_major": 2,
       "version_minor": 0
      },
      "text/plain": [
       "  0%|          | 0/3765 [00:00<?, ?ex/s]"
      ]
     },
     "metadata": {},
     "output_type": "display_data"
    }
   ],
   "source": [
    "all_data = load_dataset(\"codeparrot/apps\")\n",
    "# updated_dataset = all_data.map(lambda example: {\"labelled_solutions\": [label_code(solution) for solution in json.loads(example[\"solutions\"])]}, remove_columns=[\"problem_id\", \"input_output\", \"difficulty\", \"url\", \"starter_code\"])\n",
    "# updated_dataset = all_data.map(lambda example: {\"labelled_solutions\": [label_code(json.loads(example[\"solutions\"])[0])]}, remove_columns=[\"problem_id\", \"input_output\", \"difficulty\", \"url\", \"starter_code\"])\n",
    "all_data = all_data.filter(lambda example: example[\"solutions\"] != \"\")\n",
    "# all_data = all_data.filter(lambda example: len(label_code(json.loads(example[\"solutions\"])[0])) > 0)\n",
    "# updated_dataset = all_data.map(lambda example: {\"labelled_solutions\": [label_code(json.loads(example[\"solutions\"]))]}, remove_columns=[\"problem_id\", \"input_output\", \"difficulty\", \"url\", \"starter_code\"])\n",
    "updated_dataset = all_data.map(lambda example: {\"labelled_solutions\": [np.asarray(label_code(solution)) for solution in json.loads(example[\"solutions\"]) if len(label_code(solution)) > 0]}, remove_columns=[\"problem_id\", \"input_output\", \"difficulty\", \"url\", \"starter_code\"])\n"
   ]
  },
  {
   "cell_type": "code",
   "execution_count": 259,
   "id": "042c0b07",
   "metadata": {},
   "outputs": [
    {
     "data": {
      "text/plain": [
       "DatasetDict({\n",
       "    train: Dataset({\n",
       "        features: ['question', 'solutions', 'labelled_solutions'],\n",
       "        num_rows: 5000\n",
       "    })\n",
       "    test: Dataset({\n",
       "        features: ['question', 'solutions', 'labelled_solutions'],\n",
       "        num_rows: 3765\n",
       "    })\n",
       "})"
      ]
     },
     "execution_count": 259,
     "metadata": {},
     "output_type": "execute_result"
    }
   ],
   "source": [
    "updated_dataset"
   ]
  },
  {
   "cell_type": "code",
   "execution_count": 261,
   "id": "baf2053f",
   "metadata": {},
   "outputs": [],
   "source": [
    "updated_dataset.save_to_disk('./code_parrot')"
   ]
  },
  {
   "cell_type": "code",
   "execution_count": 244,
   "id": "9ef524db",
   "metadata": {},
   "outputs": [],
   "source": [
    "iteration = iter(updated_dataset['train'])"
   ]
  },
  {
   "cell_type": "code",
   "execution_count": 245,
   "id": "54d61705",
   "metadata": {},
   "outputs": [],
   "source": [
    "sample = next(iteration)"
   ]
  },
  {
   "cell_type": "code",
   "execution_count": 249,
   "id": "b94a7bfe",
   "metadata": {},
   "outputs": [
    {
     "ename": "AttributeError",
     "evalue": "'list' object has no attribute 'size'",
     "output_type": "error",
     "traceback": [
      "\u001b[0;31m---------------------------------------------------------------------------\u001b[0m",
      "\u001b[0;31mAttributeError\u001b[0m                            Traceback (most recent call last)",
      "Input \u001b[0;32mIn [249]\u001b[0m, in \u001b[0;36m<cell line: 1>\u001b[0;34m()\u001b[0m\n\u001b[0;32m----> 1\u001b[0m \u001b[43msample\u001b[49m\u001b[43m[\u001b[49m\u001b[38;5;124;43m'\u001b[39;49m\u001b[38;5;124;43mlabelled_solutions\u001b[39;49m\u001b[38;5;124;43m'\u001b[39;49m\u001b[43m]\u001b[49m\u001b[38;5;241;43m.\u001b[39;49m\u001b[43msize\u001b[49m\n",
      "\u001b[0;31mAttributeError\u001b[0m: 'list' object has no attribute 'size'"
     ]
    }
   ],
   "source": [
    "sample['labelled_solutions']"
   ]
  },
  {
   "cell_type": "code",
   "execution_count": 173,
   "id": "e43e1c06",
   "metadata": {},
   "outputs": [
    {
     "data": {
      "text/plain": [
       "True"
      ]
     },
     "execution_count": 173,
     "metadata": {},
     "output_type": "execute_result"
    }
   ],
   "source": [
    "sample[\"solutions\"] == ''"
   ]
  },
  {
   "cell_type": "code",
   "execution_count": 206,
   "id": "61482163",
   "metadata": {},
   "outputs": [],
   "source": [
    "# sample = next(dataset)\n",
    "sample = dataset[827]"
   ]
  },
  {
   "cell_type": "code",
   "execution_count": 207,
   "id": "a8e3becc",
   "metadata": {},
   "outputs": [
    {
     "data": {
      "text/plain": [
       "dict_keys(['problem_id', 'question', 'solutions', 'input_output', 'difficulty', 'url', 'starter_code'])"
      ]
     },
     "execution_count": 207,
     "metadata": {},
     "output_type": "execute_result"
    }
   ],
   "source": [
    "sample.keys()"
   ]
  },
  {
   "cell_type": "code",
   "execution_count": 208,
   "id": "82c3c1d1",
   "metadata": {},
   "outputs": [],
   "source": [
    "# print(sample['question'])"
   ]
  },
  {
   "cell_type": "code",
   "execution_count": 187,
   "id": "9b73e6c6",
   "metadata": {},
   "outputs": [
    {
     "data": {
      "text/plain": [
       "3"
      ]
     },
     "execution_count": 187,
     "metadata": {},
     "output_type": "execute_result"
    }
   ],
   "source": [
    "len(json.loads(sample[\"solutions\"]))"
   ]
  },
  {
   "cell_type": "code",
   "execution_count": 188,
   "id": "68d7e250",
   "metadata": {},
   "outputs": [],
   "source": [
    "# print(json.loads(sample[\"solutions\"])[0])"
   ]
  },
  {
   "cell_type": "code",
   "execution_count": 178,
   "id": "b360527f",
   "metadata": {},
   "outputs": [],
   "source": [
    "for sample in dataset:\n",
    "    label_code(json.loads(sample[\"solutions\"])[0])"
   ]
  },
  {
   "cell_type": "code",
   "execution_count": 209,
   "id": "4a81f091",
   "metadata": {},
   "outputs": [
    {
     "name": "stdout",
     "output_type": "stream",
     "text": [
      "try:\r\n",
      "    t=int(input())\r\n",
      "    for i in range(t):\r\n",
      "        n,k=map(int,input().split())\r\n",
      "        s=input()\r\n",
      "        l=[-1]*len(s)\r\n",
      "        numb=s.count('b')\r\n",
      "        x=numb\r\n",
      "        for j in range(len(s)):\r\n",
      "            if(s[j]=='a'):\r\n",
      "                l[j]=numb\r\n",
      "            if(s[j]=='b'):\r\n",
      "                numb=numb-1\r\n",
      "        #print(l)\r\n",
      "        count1=0\r\n",
      "        for j in range(len(l)):\r\n",
      "            if(l[j]>0):\r\n",
      "                count1=count1+(k*(2*l[j]+(k-1)*x))//2\r\n",
      "            elif(l[j]==0):\r\n",
      "                count1=count1+(k*(2*0+(k-1)*x))//2\r\n",
      "        print(count1)\r\n",
      "except:\r\n",
      "    pass\r\n",
      "\n"
     ]
    }
   ],
   "source": [
    "print(json.loads(sample[\"solutions\"])[0])"
   ]
  },
  {
   "cell_type": "code",
   "execution_count": 210,
   "id": "03836815",
   "metadata": {},
   "outputs": [],
   "source": [
    "solution = json.loads(sample[\"solutions\"])[0]"
   ]
  },
  {
   "cell_type": "code",
   "execution_count": 211,
   "id": "f849edd5",
   "metadata": {},
   "outputs": [],
   "source": [
    "src_lines =  [e+'\\n' for e in solution.split('\\n') if e]\n",
    "root_node = parser.parse(custom_read_callable(src_lines)).root_node\n",
    "# return np.asarray(labels(src_lines, root_node))"
   ]
  },
  {
   "cell_type": "code",
   "execution_count": 212,
   "id": "5fa6e1d2",
   "metadata": {},
   "outputs": [
    {
     "data": {
      "text/plain": [
       "['try:\\r\\n',\n",
       " '    t=int(input())\\r\\n',\n",
       " '    for i in range(t):\\r\\n',\n",
       " '        n,k=map(int,input().split())\\r\\n',\n",
       " '        s=input()\\r\\n',\n",
       " '        l=[-1]*len(s)\\r\\n',\n",
       " \"        numb=s.count('b')\\r\\n\",\n",
       " '        x=numb\\r\\n',\n",
       " '        for j in range(len(s)):\\r\\n',\n",
       " \"            if(s[j]=='a'):\\r\\n\",\n",
       " '                l[j]=numb\\r\\n',\n",
       " \"            if(s[j]=='b'):\\r\\n\",\n",
       " '                numb=numb-1\\r\\n',\n",
       " '        #print(l)\\r\\n',\n",
       " '        count1=0\\r\\n',\n",
       " '        for j in range(len(l)):\\r\\n',\n",
       " '            if(l[j]>0):\\r\\n',\n",
       " '                count1=count1+(k*(2*l[j]+(k-1)*x))//2\\r\\n',\n",
       " '            elif(l[j]==0):\\r\\n',\n",
       " '                count1=count1+(k*(2*0+(k-1)*x))//2\\r\\n',\n",
       " '        print(count1)\\r\\n',\n",
       " 'except:\\r\\n',\n",
       " '    pass\\r\\n']"
      ]
     },
     "execution_count": 212,
     "metadata": {},
     "output_type": "execute_result"
    }
   ],
   "source": [
    "src_lines"
   ]
  },
  {
   "cell_type": "code",
   "execution_count": 213,
   "id": "b9a12f67",
   "metadata": {},
   "outputs": [
    {
     "data": {
      "text/plain": [
       "'(module (try_statement body: (block (expression_statement (assignment left: (identifier) right: (call function: (identifier) arguments: (argument_list (call function: (identifier) arguments: (argument_list)))))) (for_statement left: (identifier) right: (call function: (identifier) arguments: (argument_list (identifier))) body: (block (expression_statement (assignment left: (pattern_list (identifier) (identifier)) right: (call function: (identifier) arguments: (argument_list (identifier) (call function: (attribute object: (call function: (identifier) arguments: (argument_list)) attribute: (identifier)) arguments: (argument_list)))))) (expression_statement (assignment left: (identifier) right: (call function: (identifier) arguments: (argument_list)))) (expression_statement (assignment left: (identifier) right: (binary_operator left: (list (unary_operator argument: (integer))) right: (call function: (identifier) arguments: (argument_list (identifier)))))) (expression_statement (assignment left: (identifier) right: (call function: (attribute object: (identifier) attribute: (identifier)) arguments: (argument_list (string))))) (expression_statement (assignment left: (identifier) right: (identifier))) (for_statement left: (identifier) right: (call function: (identifier) arguments: (argument_list (call function: (identifier) arguments: (argument_list (identifier))))) body: (block (if_statement condition: (parenthesized_expression (comparison_operator (subscript value: (identifier) subscript: (identifier)) (string))) consequence: (block (expression_statement (assignment left: (subscript value: (identifier) subscript: (identifier)) right: (identifier))))) (if_statement condition: (parenthesized_expression (comparison_operator (subscript value: (identifier) subscript: (identifier)) (string))) consequence: (block (expression_statement (assignment left: (identifier) right: (binary_operator left: (identifier) right: (integer)))))))) (comment) (expression_statement (assignment left: (identifier) right: (integer))) (for_statement left: (identifier) right: (call function: (identifier) arguments: (argument_list (call function: (identifier) arguments: (argument_list (identifier))))) body: (block (if_statement condition: (parenthesized_expression (comparison_operator (subscript value: (identifier) subscript: (identifier)) (integer))) consequence: (block (expression_statement (assignment left: (identifier) right: (binary_operator left: (identifier) right: (binary_operator left: (parenthesized_expression (binary_operator left: (identifier) right: (parenthesized_expression (binary_operator left: (binary_operator left: (integer) right: (subscript value: (identifier) subscript: (identifier))) right: (binary_operator left: (parenthesized_expression (binary_operator left: (identifier) right: (integer))) right: (identifier)))))) right: (integer)))))) alternative: (elif_clause condition: (parenthesized_expression (comparison_operator (subscript value: (identifier) subscript: (identifier)) (integer))) consequence: (block (expression_statement (assignment left: (identifier) right: (binary_operator left: (identifier) right: (binary_operator left: (parenthesized_expression (binary_operator left: (identifier) right: (parenthesized_expression (binary_operator left: (binary_operator left: (integer) right: (integer)) right: (binary_operator left: (parenthesized_expression (binary_operator left: (identifier) right: (integer))) right: (identifier)))))) right: (integer)))))))))) (expression_statement (call function: (identifier) arguments: (argument_list (identifier))))))) (except_clause (block (pass_statement)))))'"
      ]
     },
     "execution_count": 213,
     "metadata": {},
     "output_type": "execute_result"
    }
   ],
   "source": [
    "root_node.sexp()"
   ]
  },
  {
   "cell_type": "code",
   "execution_count": 226,
   "id": "4498fb8a",
   "metadata": {},
   "outputs": [
    {
     "data": {
      "text/plain": [
       "40"
      ]
     },
     "execution_count": 226,
     "metadata": {},
     "output_type": "execute_result"
    }
   ],
   "source": [
    "label_code(json.loads(sample[\"solutions\"])[0]).size"
   ]
  },
  {
   "cell_type": "markdown",
   "id": "49118c0c",
   "metadata": {},
   "source": [
    "## Load wikihow data"
   ]
  },
  {
   "cell_type": "code",
   "execution_count": 17,
   "id": "8b573b07",
   "metadata": {},
   "outputs": [
    {
     "name": "stdout",
     "output_type": "stream",
     "text": [
      "__init__.py       wiki_how_data.pkl\r\n"
     ]
    }
   ],
   "source": [
    "!ls ./wikihow"
   ]
  },
  {
   "cell_type": "code",
   "execution_count": 18,
   "id": "eb57c0c1",
   "metadata": {},
   "outputs": [
    {
     "name": "stdout",
     "output_type": "stream",
     "text": [
      "Showing the pickled data:\n"
     ]
    }
   ],
   "source": [
    "import pickle\n",
    "\n",
    "# open a file, where you stored the pickled data\n",
    "file = open('./wikihow/wiki_how_data.pkl', 'rb')\n",
    "\n",
    "# dump information to that file\n",
    "data = pickle.load(file)\n",
    "\n",
    "# close the file\n",
    "file.close()\n",
    "\n",
    "print('Showing the pickled data:')"
   ]
  },
  {
   "cell_type": "code",
   "execution_count": 22,
   "id": "aad1660c",
   "metadata": {},
   "outputs": [
    {
     "data": {
      "text/plain": [
       "dict_keys(['url', 'title', 'description', 'steps'])"
      ]
     },
     "execution_count": 22,
     "metadata": {},
     "output_type": "execute_result"
    }
   ],
   "source": [
    "data[0].keys()"
   ]
  },
  {
   "cell_type": "code",
   "execution_count": 23,
   "id": "c6bb8fae",
   "metadata": {},
   "outputs": [
    {
     "data": {
      "text/plain": [
       "'Nearly one third of all driving accidents in the United States involve alcohol-impaired drivers. Driving with a blood alcohol level of .08 or more is a crime.  You may also be unable to adequately operate a motor vehicle with a much lower level, which puts the driver and others at risk. Drunk driving is avoidable if you exercise precautions and self-awareness to stay safe.'"
      ]
     },
     "execution_count": 23,
     "metadata": {},
     "output_type": "execute_result"
    }
   ],
   "source": [
    "data[0]['description']"
   ]
  },
  {
   "cell_type": "code",
   "execution_count": 24,
   "id": "8bfd5bda",
   "metadata": {},
   "outputs": [
    {
     "data": {
      "text/plain": [
       "'How to Avoid Drinking and Driving'"
      ]
     },
     "execution_count": 24,
     "metadata": {},
     "output_type": "execute_result"
    }
   ],
   "source": [
    "data[0]['title']"
   ]
  },
  {
   "cell_type": "code",
   "execution_count": 35,
   "id": "acf2a917",
   "metadata": {},
   "outputs": [
    {
     "data": {
      "text/plain": [
       "{'section': 'Designating a Driver',\n",
       " 'step_num': '2',\n",
       " 'summary': 'Assign a designated driver.',\n",
       " 'text': 'Make sure this person is responsible and keep them in your sight while you are drinking.  Have their contact information handy in case you can’t find them when you are ready to leave.  Choose a friend who doesn’t drink alcohol.  You likely have someone in your friend group who doesn’t drink.  This person is the most likely to remain sober. Decide on one person who will remain sober.  You can take turns within your friend group, alternating who will be the designated driver on each occasion.  Be sure that the designated driver actually remains sober.  The person who has drank the least is still not sober.'}"
      ]
     },
     "execution_count": 35,
     "metadata": {},
     "output_type": "execute_result"
    }
   ],
   "source": [
    "list(data[0]['steps'].values())[1]"
   ]
  },
  {
   "cell_type": "code",
   "execution_count": 36,
   "id": "3ecca2ba",
   "metadata": {},
   "outputs": [
    {
     "data": {
      "text/plain": [
       "'Assign a designated driver'"
      ]
     },
     "execution_count": 36,
     "metadata": {},
     "output_type": "execute_result"
    }
   ],
   "source": [
    "list(data[0]['steps'].values())[1]['summary'][:-1]"
   ]
  },
  {
   "cell_type": "code",
   "execution_count": null,
   "id": "28a237b0",
   "metadata": {},
   "outputs": [],
   "source": []
  }
 ],
 "metadata": {
  "kernelspec": {
   "display_name": "Python 3 (ipykernel)",
   "language": "python",
   "name": "python3"
  },
  "language_info": {
   "codemirror_mode": {
    "name": "ipython",
    "version": 3
   },
   "file_extension": ".py",
   "mimetype": "text/x-python",
   "name": "python",
   "nbconvert_exporter": "python",
   "pygments_lexer": "ipython3",
   "version": "3.9.13"
  }
 },
 "nbformat": 4,
 "nbformat_minor": 5
}
