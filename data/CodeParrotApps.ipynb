{
 "cells": [
  {
   "cell_type": "code",
   "execution_count": 252,
   "id": "a1d036ab",
   "metadata": {},
   "outputs": [],
   "source": [
    "import json\n",
    "from datasets import load_dataset\n",
    "from tree_sitter import Language, Parser\n",
    "import numpy as np"
   ]
  },
  {
   "cell_type": "code",
   "execution_count": 253,
   "id": "f090dbce",
   "metadata": {},
   "outputs": [],
   "source": [
    "Language.build_library(\n",
    "  # Store the library in the `build` directory\n",
    "  'build/my-languages.so',\n",
    "\n",
    "  # Include one or more languages\n",
    "  [\n",
    "    'tree-sitter-python'\n",
    "  ]\n",
    ")\n",
    "PY_LANGUAGE = Language('build/my-languages.so', 'python')\n",
    "parser = Parser()\n",
    "parser.set_language(PY_LANGUAGE)"
   ]
  },
  {
   "cell_type": "code",
   "execution_count": 254,
   "id": "4f417080",
   "metadata": {},
   "outputs": [],
   "source": [
    "def custom_read_callable(src_lines):\n",
    "    def read_callable(byte_offset, point):\n",
    "        row, column = point\n",
    "        if row >= len(src_lines) or column >= len(src_lines[row]):\n",
    "            return None\n",
    "        return src_lines[row][column:].encode('utf8')\n",
    "    return read_callable"
   ]
  },
  {
   "cell_type": "code",
   "execution_count": 255,
   "id": "aabc5f04",
   "metadata": {},
   "outputs": [],
   "source": [
    "def labels(src_lines, node, line_num=0):\n",
    "    resp = []\n",
    "    for child in node.children:\n",
    "        if child.type == 'comment':\n",
    "            continue\n",
    "        elif child.type == 'block':\n",
    "            resp += labels(src_lines, child, child.start_point[0])\n",
    "        elif child.start_point[0] == child.end_point[0] and child.start_point[0] >= line_num:\n",
    "            resp.append((child.type, src_lines[child.start_point[0]][:-1].replace('    ', '[tab]')))\n",
    "            line_num = child.start_point[0]\n",
    "        elif child.start_point[0] >= line_num:\n",
    "            resp += labels(src_lines, child, child.start_point[0])\n",
    "            line_num = child.start_point[0]\n",
    "        line_num += 1\n",
    "    return resp"
   ]
  },
  {
   "cell_type": "code",
   "execution_count": 256,
   "id": "3c2f4a54",
   "metadata": {},
   "outputs": [],
   "source": [
    "def label_code(solution):\n",
    "    src_lines =  [e+'\\n' for e in solution.split('\\n') if e]\n",
    "    root_node = parser.parse(custom_read_callable(src_lines)).root_node\n",
    "    return labels(src_lines, root_node)"
   ]
  },
  {
   "cell_type": "code",
   "execution_count": 257,
   "id": "770ba16c",
   "metadata": {},
   "outputs": [
    {
     "name": "stderr",
     "output_type": "stream",
     "text": [
      "No config specified, defaulting to: apps/all\n",
      "Found cached dataset apps (/Users/swapnilsharma/.cache/huggingface/datasets/codeparrot___apps/all/0.0.0/04ac807715d07d6e5cc580f59cdc8213cd7dc4529d0bb819cca72c9f8e8c1aa5)\n"
     ]
    }
   ],
   "source": [
    "dataset = load_dataset(\"codeparrot/apps\", split=\"train\")"
   ]
  },
  {
   "cell_type": "code",
   "execution_count": 258,
   "id": "6a422e19",
   "metadata": {},
   "outputs": [
    {
     "name": "stderr",
     "output_type": "stream",
     "text": [
      "No config specified, defaulting to: apps/all\n",
      "Found cached dataset apps (/Users/swapnilsharma/.cache/huggingface/datasets/codeparrot___apps/all/0.0.0/04ac807715d07d6e5cc580f59cdc8213cd7dc4529d0bb819cca72c9f8e8c1aa5)\n"
     ]
    },
    {
     "data": {
      "application/vnd.jupyter.widget-view+json": {
       "model_id": "6b67efab36844c80a05882c10a8e1045",
       "version_major": 2,
       "version_minor": 0
      },
      "text/plain": [
       "  0%|          | 0/2 [00:00<?, ?it/s]"
      ]
     },
     "metadata": {},
     "output_type": "display_data"
    },
    {
     "name": "stderr",
     "output_type": "stream",
     "text": [
      "Loading cached processed dataset at /Users/swapnilsharma/.cache/huggingface/datasets/codeparrot___apps/all/0.0.0/04ac807715d07d6e5cc580f59cdc8213cd7dc4529d0bb819cca72c9f8e8c1aa5/cache-53cf1e86c6ee9cc7.arrow\n",
      "Loading cached processed dataset at /Users/swapnilsharma/.cache/huggingface/datasets/codeparrot___apps/all/0.0.0/04ac807715d07d6e5cc580f59cdc8213cd7dc4529d0bb819cca72c9f8e8c1aa5/cache-92de84b270017841.arrow\n"
     ]
    },
    {
     "data": {
      "application/vnd.jupyter.widget-view+json": {
       "model_id": "d227703db6a94b1689ebef89812fa245",
       "version_major": 2,
       "version_minor": 0
      },
      "text/plain": [
       "  0%|          | 0/5000 [00:00<?, ?ex/s]"
      ]
     },
     "metadata": {},
     "output_type": "display_data"
    },
    {
     "data": {
      "application/vnd.jupyter.widget-view+json": {
       "model_id": "e9fdb5d1d069433eb99044e6b5b8508e",
       "version_major": 2,
       "version_minor": 0
      },
      "text/plain": [
       "  0%|          | 0/3765 [00:00<?, ?ex/s]"
      ]
     },
     "metadata": {},
     "output_type": "display_data"
    }
   ],
   "source": [
    "all_data = load_dataset(\"codeparrot/apps\")\n",
    "# updated_dataset = all_data.map(lambda example: {\"labelled_solutions\": [label_code(solution) for solution in json.loads(example[\"solutions\"])]}, remove_columns=[\"problem_id\", \"input_output\", \"difficulty\", \"url\", \"starter_code\"])\n",
    "# updated_dataset = all_data.map(lambda example: {\"labelled_solutions\": [label_code(json.loads(example[\"solutions\"])[0])]}, remove_columns=[\"problem_id\", \"input_output\", \"difficulty\", \"url\", \"starter_code\"])\n",
    "all_data = all_data.filter(lambda example: example[\"solutions\"] != \"\")\n",
    "# all_data = all_data.filter(lambda example: len(label_code(json.loads(example[\"solutions\"])[0])) > 0)\n",
    "# updated_dataset = all_data.map(lambda example: {\"labelled_solutions\": [label_code(json.loads(example[\"solutions\"]))]}, remove_columns=[\"problem_id\", \"input_output\", \"difficulty\", \"url\", \"starter_code\"])\n",
    "updated_dataset = all_data.map(lambda example: {\"labelled_solutions\": [np.asarray(label_code(solution)) for solution in json.loads(example[\"solutions\"]) if len(label_code(solution)) > 0]}, remove_columns=[\"problem_id\", \"input_output\", \"difficulty\", \"url\", \"starter_code\"])\n"
   ]
  },
  {
   "cell_type": "code",
   "execution_count": 259,
   "id": "0cc5031d",
   "metadata": {},
   "outputs": [
    {
     "data": {
      "text/plain": [
       "DatasetDict({\n",
       "    train: Dataset({\n",
       "        features: ['question', 'solutions', 'labelled_solutions'],\n",
       "        num_rows: 5000\n",
       "    })\n",
       "    test: Dataset({\n",
       "        features: ['question', 'solutions', 'labelled_solutions'],\n",
       "        num_rows: 3765\n",
       "    })\n",
       "})"
      ]
     },
     "execution_count": 259,
     "metadata": {},
     "output_type": "execute_result"
    }
   ],
   "source": [
    "updated_dataset"
   ]
  },
  {
   "cell_type": "code",
   "execution_count": 261,
   "id": "47856d6a",
   "metadata": {},
   "outputs": [],
   "source": [
    "updated_dataset.save_to_disk('./code_parrot')"
   ]
  },
  {
   "cell_type": "markdown",
   "id": "b4d8ec46",
   "metadata": {},
   "source": [
    "#### Saved dataset in above line :finger_point_up:"
   ]
  },
  {
   "cell_type": "code",
   "execution_count": 244,
   "id": "9ef524db",
   "metadata": {},
   "outputs": [],
   "source": [
    "iteration = iter(updated_dataset['train'])"
   ]
  },
  {
   "cell_type": "code",
   "execution_count": 245,
   "id": "f2e1e862",
   "metadata": {},
   "outputs": [],
   "source": [
    "sample = next(iteration)"
   ]
  },
  {
   "cell_type": "code",
   "execution_count": 249,
   "id": "3dfd2690",
   "metadata": {},
   "outputs": [
    {
     "ename": "AttributeError",
     "evalue": "'list' object has no attribute 'size'",
     "output_type": "error",
     "traceback": [
      "\u001b[0;31m---------------------------------------------------------------------------\u001b[0m",
      "\u001b[0;31mAttributeError\u001b[0m                            Traceback (most recent call last)",
      "Input \u001b[0;32mIn [249]\u001b[0m, in \u001b[0;36m<cell line: 1>\u001b[0;34m()\u001b[0m\n\u001b[0;32m----> 1\u001b[0m \u001b[43msample\u001b[49m\u001b[43m[\u001b[49m\u001b[38;5;124;43m'\u001b[39;49m\u001b[38;5;124;43mlabelled_solutions\u001b[39;49m\u001b[38;5;124;43m'\u001b[39;49m\u001b[43m]\u001b[49m\u001b[38;5;241;43m.\u001b[39;49m\u001b[43msize\u001b[49m\n",
      "\u001b[0;31mAttributeError\u001b[0m: 'list' object has no attribute 'size'"
     ]
    }
   ],
   "source": [
    "sample['labelled_solutions']"
   ]
  },
  {
   "cell_type": "code",
   "execution_count": 173,
   "id": "58d5e080",
   "metadata": {},
   "outputs": [
    {
     "data": {
      "text/plain": [
       "True"
      ]
     },
     "execution_count": 173,
     "metadata": {},
     "output_type": "execute_result"
    }
   ],
   "source": [
    "sample[\"solutions\"] == ''"
   ]
  },
  {
   "cell_type": "code",
   "execution_count": 206,
   "id": "61482163",
   "metadata": {},
   "outputs": [],
   "source": [
    "# sample = next(dataset)\n",
    "sample = dataset[827]"
   ]
  },
  {
   "cell_type": "code",
   "execution_count": 207,
   "id": "a8e3becc",
   "metadata": {},
   "outputs": [
    {
     "data": {
      "text/plain": [
       "dict_keys(['problem_id', 'question', 'solutions', 'input_output', 'difficulty', 'url', 'starter_code'])"
      ]
     },
     "execution_count": 207,
     "metadata": {},
     "output_type": "execute_result"
    }
   ],
   "source": [
    "sample.keys()"
   ]
  },
  {
   "cell_type": "code",
   "execution_count": 208,
   "id": "9b34fdba",
   "metadata": {},
   "outputs": [],
   "source": [
    "# print(sample['question'])"
   ]
  },
  {
   "cell_type": "code",
   "execution_count": 187,
   "id": "088c8a7d",
   "metadata": {},
   "outputs": [
    {
     "data": {
      "text/plain": [
       "3"
      ]
     },
     "execution_count": 187,
     "metadata": {},
     "output_type": "execute_result"
    }
   ],
   "source": [
    "len(json.loads(sample[\"solutions\"]))"
   ]
  },
  {
   "cell_type": "code",
   "execution_count": 188,
   "id": "68d7e250",
   "metadata": {},
   "outputs": [],
   "source": [
    "# print(json.loads(sample[\"solutions\"])[0])"
   ]
  },
  {
   "cell_type": "code",
   "execution_count": 178,
   "id": "42bc1a0f",
   "metadata": {},
   "outputs": [],
   "source": [
    "for sample in dataset:\n",
    "    label_code(json.loads(sample[\"solutions\"])[0])"
   ]
  },
  {
   "cell_type": "code",
   "execution_count": 209,
   "id": "fe60d945",
   "metadata": {},
   "outputs": [
    {
     "name": "stdout",
     "output_type": "stream",
     "text": [
      "try:\r\n",
      "    t=int(input())\r\n",
      "    for i in range(t):\r\n",
      "        n,k=map(int,input().split())\r\n",
      "        s=input()\r\n",
      "        l=[-1]*len(s)\r\n",
      "        numb=s.count('b')\r\n",
      "        x=numb\r\n",
      "        for j in range(len(s)):\r\n",
      "            if(s[j]=='a'):\r\n",
      "                l[j]=numb\r\n",
      "            if(s[j]=='b'):\r\n",
      "                numb=numb-1\r\n",
      "        #print(l)\r\n",
      "        count1=0\r\n",
      "        for j in range(len(l)):\r\n",
      "            if(l[j]>0):\r\n",
      "                count1=count1+(k*(2*l[j]+(k-1)*x))//2\r\n",
      "            elif(l[j]==0):\r\n",
      "                count1=count1+(k*(2*0+(k-1)*x))//2\r\n",
      "        print(count1)\r\n",
      "except:\r\n",
      "    pass\r\n",
      "\n"
     ]
    }
   ],
   "source": [
    "print(json.loads(sample[\"solutions\"])[0])"
   ]
  },
  {
   "cell_type": "code",
   "execution_count": 210,
   "id": "d2786688",
   "metadata": {},
   "outputs": [],
   "source": [
    "solution = json.loads(sample[\"solutions\"])[0]"
   ]
  },
  {
   "cell_type": "code",
   "execution_count": 211,
   "id": "a7aed424",
   "metadata": {},
   "outputs": [],
   "source": [
    "src_lines =  [e+'\\n' for e in solution.split('\\n') if e]\n",
    "root_node = parser.parse(custom_read_callable(src_lines)).root_node\n",
    "# return np.asarray(labels(src_lines, root_node))"
   ]
  },
  {
   "cell_type": "code",
   "execution_count": 212,
   "id": "be67c57c",
   "metadata": {},
   "outputs": [
    {
     "data": {
      "text/plain": [
       "['try:\\r\\n',\n",
       " '    t=int(input())\\r\\n',\n",
       " '    for i in range(t):\\r\\n',\n",
       " '        n,k=map(int,input().split())\\r\\n',\n",
       " '        s=input()\\r\\n',\n",
       " '        l=[-1]*len(s)\\r\\n',\n",
       " \"        numb=s.count('b')\\r\\n\",\n",
       " '        x=numb\\r\\n',\n",
       " '        for j in range(len(s)):\\r\\n',\n",
       " \"            if(s[j]=='a'):\\r\\n\",\n",
       " '                l[j]=numb\\r\\n',\n",
       " \"            if(s[j]=='b'):\\r\\n\",\n",
       " '                numb=numb-1\\r\\n',\n",
       " '        #print(l)\\r\\n',\n",
       " '        count1=0\\r\\n',\n",
       " '        for j in range(len(l)):\\r\\n',\n",
       " '            if(l[j]>0):\\r\\n',\n",
       " '                count1=count1+(k*(2*l[j]+(k-1)*x))//2\\r\\n',\n",
       " '            elif(l[j]==0):\\r\\n',\n",
       " '                count1=count1+(k*(2*0+(k-1)*x))//2\\r\\n',\n",
       " '        print(count1)\\r\\n',\n",
       " 'except:\\r\\n',\n",
       " '    pass\\r\\n']"
      ]
     },
     "execution_count": 212,
     "metadata": {},
     "output_type": "execute_result"
    }
   ],
   "source": [
    "src_lines"
   ]
  },
  {
   "cell_type": "code",
   "execution_count": 213,
   "id": "9ad14cb3",
   "metadata": {},
   "outputs": [
    {
     "data": {
      "text/plain": [
       "'(module (try_statement body: (block (expression_statement (assignment left: (identifier) right: (call function: (identifier) arguments: (argument_list (call function: (identifier) arguments: (argument_list)))))) (for_statement left: (identifier) right: (call function: (identifier) arguments: (argument_list (identifier))) body: (block (expression_statement (assignment left: (pattern_list (identifier) (identifier)) right: (call function: (identifier) arguments: (argument_list (identifier) (call function: (attribute object: (call function: (identifier) arguments: (argument_list)) attribute: (identifier)) arguments: (argument_list)))))) (expression_statement (assignment left: (identifier) right: (call function: (identifier) arguments: (argument_list)))) (expression_statement (assignment left: (identifier) right: (binary_operator left: (list (unary_operator argument: (integer))) right: (call function: (identifier) arguments: (argument_list (identifier)))))) (expression_statement (assignment left: (identifier) right: (call function: (attribute object: (identifier) attribute: (identifier)) arguments: (argument_list (string))))) (expression_statement (assignment left: (identifier) right: (identifier))) (for_statement left: (identifier) right: (call function: (identifier) arguments: (argument_list (call function: (identifier) arguments: (argument_list (identifier))))) body: (block (if_statement condition: (parenthesized_expression (comparison_operator (subscript value: (identifier) subscript: (identifier)) (string))) consequence: (block (expression_statement (assignment left: (subscript value: (identifier) subscript: (identifier)) right: (identifier))))) (if_statement condition: (parenthesized_expression (comparison_operator (subscript value: (identifier) subscript: (identifier)) (string))) consequence: (block (expression_statement (assignment left: (identifier) right: (binary_operator left: (identifier) right: (integer)))))))) (comment) (expression_statement (assignment left: (identifier) right: (integer))) (for_statement left: (identifier) right: (call function: (identifier) arguments: (argument_list (call function: (identifier) arguments: (argument_list (identifier))))) body: (block (if_statement condition: (parenthesized_expression (comparison_operator (subscript value: (identifier) subscript: (identifier)) (integer))) consequence: (block (expression_statement (assignment left: (identifier) right: (binary_operator left: (identifier) right: (binary_operator left: (parenthesized_expression (binary_operator left: (identifier) right: (parenthesized_expression (binary_operator left: (binary_operator left: (integer) right: (subscript value: (identifier) subscript: (identifier))) right: (binary_operator left: (parenthesized_expression (binary_operator left: (identifier) right: (integer))) right: (identifier)))))) right: (integer)))))) alternative: (elif_clause condition: (parenthesized_expression (comparison_operator (subscript value: (identifier) subscript: (identifier)) (integer))) consequence: (block (expression_statement (assignment left: (identifier) right: (binary_operator left: (identifier) right: (binary_operator left: (parenthesized_expression (binary_operator left: (identifier) right: (parenthesized_expression (binary_operator left: (binary_operator left: (integer) right: (integer)) right: (binary_operator left: (parenthesized_expression (binary_operator left: (identifier) right: (integer))) right: (identifier)))))) right: (integer)))))))))) (expression_statement (call function: (identifier) arguments: (argument_list (identifier))))))) (except_clause (block (pass_statement)))))'"
      ]
     },
     "execution_count": 213,
     "metadata": {},
     "output_type": "execute_result"
    }
   ],
   "source": [
    "root_node.sexp()"
   ]
  },
  {
   "cell_type": "code",
   "execution_count": 226,
   "id": "375c9500",
   "metadata": {},
   "outputs": [
    {
     "data": {
      "text/plain": [
       "40"
      ]
     },
     "execution_count": 226,
     "metadata": {},
     "output_type": "execute_result"
    }
   ],
   "source": [
    "label_code(json.loads(sample[\"solutions\"])[0]).size"
   ]
  },
  {
   "cell_type": "markdown",
   "id": "845497ed",
   "metadata": {},
   "source": [
    "## Load wikihow data"
   ]
  },
  {
   "cell_type": "code",
   "execution_count": 17,
   "id": "dc043f78",
   "metadata": {},
   "outputs": [
    {
     "name": "stdout",
     "output_type": "stream",
     "text": [
      "__init__.py       wiki_how_data.pkl\r\n"
     ]
    }
   ],
   "source": [
    "!ls ./wikihow"
   ]
  },
  {
   "cell_type": "code",
   "execution_count": 18,
   "id": "be6c1e98",
   "metadata": {},
   "outputs": [
    {
     "name": "stdout",
     "output_type": "stream",
     "text": [
      "Showing the pickled data:\n"
     ]
    }
   ],
   "source": [
    "import pickle\n",
    "\n",
    "# open a file, where you stored the pickled data\n",
    "file = open('./wikihow/wiki_how_data.pkl', 'rb')\n",
    "\n",
    "# dump information to that file\n",
    "data = pickle.load(file)\n",
    "\n",
    "# close the file\n",
    "file.close()\n",
    "\n",
    "print('Showing the pickled data:')"
   ]
  },
  {
   "cell_type": "code",
   "execution_count": 22,
   "id": "286ee6cc",
   "metadata": {},
   "outputs": [
    {
     "data": {
      "text/plain": [
       "dict_keys(['url', 'title', 'description', 'steps'])"
      ]
     },
     "execution_count": 22,
     "metadata": {},
     "output_type": "execute_result"
    }
   ],
   "source": [
    "data[0].keys()"
   ]
  },
  {
   "cell_type": "code",
   "execution_count": 23,
   "id": "1cb66df0",
   "metadata": {},
   "outputs": [
    {
     "data": {
      "text/plain": [
       "'Nearly one third of all driving accidents in the United States involve alcohol-impaired drivers. Driving with a blood alcohol level of .08 or more is a crime.  You may also be unable to adequately operate a motor vehicle with a much lower level, which puts the driver and others at risk. Drunk driving is avoidable if you exercise precautions and self-awareness to stay safe.'"
      ]
     },
     "execution_count": 23,
     "metadata": {},
     "output_type": "execute_result"
    }
   ],
   "source": [
    "data[0]['description']"
   ]
  },
  {
   "cell_type": "code",
   "execution_count": 24,
   "id": "3d4f33c6",
   "metadata": {},
   "outputs": [
    {
     "data": {
      "text/plain": [
       "'How to Avoid Drinking and Driving'"
      ]
     },
     "execution_count": 24,
     "metadata": {},
     "output_type": "execute_result"
    }
   ],
   "source": [
    "data[0]['title']"
   ]
  },
  {
   "cell_type": "code",
   "execution_count": 35,
   "id": "5823b07d",
   "metadata": {},
   "outputs": [
    {
     "data": {
      "text/plain": [
       "{'section': 'Designating a Driver',\n",
       " 'step_num': '2',\n",
       " 'summary': 'Assign a designated driver.',\n",
       " 'text': 'Make sure this person is responsible and keep them in your sight while you are drinking.  Have their contact information handy in case you can’t find them when you are ready to leave.  Choose a friend who doesn’t drink alcohol.  You likely have someone in your friend group who doesn’t drink.  This person is the most likely to remain sober. Decide on one person who will remain sober.  You can take turns within your friend group, alternating who will be the designated driver on each occasion.  Be sure that the designated driver actually remains sober.  The person who has drank the least is still not sober.'}"
      ]
     },
     "execution_count": 35,
     "metadata": {},
     "output_type": "execute_result"
    }
   ],
   "source": [
    "list(data[0]['steps'].values())[1]"
   ]
  },
  {
   "cell_type": "code",
   "execution_count": 36,
   "id": "c14a8d16",
   "metadata": {},
   "outputs": [
    {
     "data": {
      "text/plain": [
       "'Assign a designated driver'"
      ]
     },
     "execution_count": 36,
     "metadata": {},
     "output_type": "execute_result"
    }
   ],
   "source": [
    "list(data[0]['steps'].values())[1]['summary'][:-1]"
   ]
  },
  {
   "cell_type": "markdown",
   "id": "674dd3c6",
   "metadata": {},
   "source": [
    "## Trying loading updated data"
   ]
  },
  {
   "cell_type": "code",
   "execution_count": 272,
   "id": "50bb7f43",
   "metadata": {},
   "outputs": [
    {
     "name": "stdout",
     "output_type": "stream",
     "text": [
      "CodeParrotApps.ipynb  \u001b[1m\u001b[36mcode-docstring-corpus\u001b[m\u001b[m \u001b[1m\u001b[36mtickettalk\u001b[m\u001b[m\r\n",
      "README.md             \u001b[1m\u001b[36mcode_parrot\u001b[m\u001b[m           \u001b[1m\u001b[36mtm2\u001b[m\u001b[m\r\n",
      "\u001b[1m\u001b[36mTheAlgo\u001b[m\u001b[m               \u001b[1m\u001b[36mpy150\u001b[m\u001b[m                 \u001b[1m\u001b[36mtree-sitter-python\u001b[m\u001b[m\r\n",
      "\u001b[1m\u001b[36mapps\u001b[m\u001b[m                  \u001b[1m\u001b[36mrecipe_nlg\u001b[m\u001b[m            \u001b[1m\u001b[36mwikihow\u001b[m\u001b[m\r\n",
      "\u001b[1m\u001b[36mbuild\u001b[m\u001b[m                 \u001b[1m\u001b[36mroc_stories\u001b[m\u001b[m           \u001b[1m\u001b[36mwikisection\u001b[m\u001b[m\r\n"
     ]
    }
   ],
   "source": [
    "!ls"
   ]
  },
  {
   "cell_type": "code",
   "execution_count": 1,
   "id": "75a84886",
   "metadata": {},
   "outputs": [],
   "source": [
    "from datasets import load_from_disk\n",
    "ds = load_from_disk('./code_parrot/train')"
   ]
  },
  {
   "cell_type": "code",
   "execution_count": 2,
   "id": "57510931",
   "metadata": {},
   "outputs": [
    {
     "data": {
      "text/plain": [
       "Dataset({\n",
       "    features: ['question', 'solutions', 'labelled_solutions'],\n",
       "    num_rows: 5000\n",
       "})"
      ]
     },
     "execution_count": 2,
     "metadata": {},
     "output_type": "execute_result"
    }
   ],
   "source": [
    "ds"
   ]
  },
  {
   "cell_type": "code",
   "execution_count": 3,
   "id": "af072e63",
   "metadata": {},
   "outputs": [
    {
     "data": {
      "text/plain": [
       "5000"
      ]
     },
     "execution_count": 3,
     "metadata": {},
     "output_type": "execute_result"
    }
   ],
   "source": [
    "len(ds['labelled_solutions'])"
   ]
  },
  {
   "cell_type": "code",
   "execution_count": 10,
   "id": "a2d91f97",
   "metadata": {},
   "outputs": [],
   "source": [
    "import random, json"
   ]
  },
  {
   "cell_type": "code",
   "execution_count": 16,
   "id": "15d64ab5",
   "metadata": {},
   "outputs": [],
   "source": [
    "sample = ds[random.sample(range(5000), 1)[0]]"
   ]
  },
  {
   "cell_type": "code",
   "execution_count": 17,
   "id": "6836a8ae",
   "metadata": {},
   "outputs": [
    {
     "name": "stdout",
     "output_type": "stream",
     "text": [
      "You're going on a trip with some students and it's up to you to keep track of how much money each Student has. A student is defined like this:\n",
      "\n",
      "```python\n",
      "class Student:\n",
      "    def __init__(self, name, fives, tens, twenties):\n",
      "        self.name = name\n",
      "        self.fives = fives\n",
      "        self.tens = tens\n",
      "        self.twenties = twenties\n",
      "```\n",
      "\n",
      "As you can tell, each Student has some fives, tens, and twenties. Your job is to return the name of the student with the most money. If every student has the same amount, then return `\"all\"`.\n",
      "\n",
      "Notes:\n",
      "* Each student will have a unique name\n",
      "* There will always be a clear winner: either one person has the most, or everyone has the same amount\n",
      "* If there is only one student, then that student has the most money\n"
     ]
    }
   ],
   "source": [
    "print(sample['question'])"
   ]
  },
  {
   "cell_type": "code",
   "execution_count": 351,
   "id": "8fa73f4b",
   "metadata": {},
   "outputs": [
    {
     "data": {
      "text/plain": [
       "'Polycarp has $n$ different binary words'"
      ]
     },
     "execution_count": 351,
     "metadata": {},
     "output_type": "execute_result"
    }
   ],
   "source": [
    "ds[0]['question'].replace(\".\\n\", \". \").replace(\"\\n\", \"\").split('. ')[:-1][0]"
   ]
  },
  {
   "cell_type": "code",
   "execution_count": 11,
   "id": "5d62d87b",
   "metadata": {},
   "outputs": [
    {
     "name": "stdout",
     "output_type": "stream",
     "text": [
      "def berserk_rater(synopsis):\n",
      "    n = sum([score(s.upper()) for s in synopsis])\n",
      "    return 'worstest episode ever' if n < 0 else 'bestest episode ever' if n > 10 else str(n)\n",
      "    \n",
      "def score(s):\n",
      "    return 5 if 'CLANG' in s else -2 if 'CG' in s else -1\n"
     ]
    }
   ],
   "source": [
    "# print(ds[0]['solutions'])\n",
    "print(json.loads(sample['solutions'])[0])"
   ]
  },
  {
   "cell_type": "code",
   "execution_count": 346,
   "id": "83246e67",
   "metadata": {},
   "outputs": [
    {
     "data": {
      "text/plain": [
       "['for', 'for _ in range(int(input())):']"
      ]
     },
     "execution_count": 346,
     "metadata": {},
     "output_type": "execute_result"
    }
   ],
   "source": [
    "ds[0]['labelled_solutions'][0][0]"
   ]
  },
  {
   "cell_type": "code",
   "execution_count": 310,
   "id": "20318f40",
   "metadata": {},
   "outputs": [],
   "source": [
    "import random\n",
    "a = []"
   ]
  },
  {
   "cell_type": "code",
   "execution_count": 319,
   "id": "2cb21647",
   "metadata": {},
   "outputs": [],
   "source": [
    "for _ in range(10):\n",
    "    for i in random.sample(range(5000), 1):\n",
    "        for j in random.sample(range(len(ds['labelled_solutions'][i])), 1):\n",
    "            a += ds['labelled_solutions'][i][j]"
   ]
  },
  {
   "cell_type": "code",
   "execution_count": 320,
   "id": "5182a13c",
   "metadata": {},
   "outputs": [
    {
     "data": {
      "text/plain": [
       "array(['\"', 'break_statement', 'class', 'continue_statement', 'def',\n",
       "       'elif', 'else', 'expression_statement', 'for', 'if',\n",
       "       'if_statement', 'import_statement', 'return_statement', 'while'],\n",
       "      dtype='<U109')"
      ]
     },
     "execution_count": 320,
     "metadata": {},
     "output_type": "execute_result"
    }
   ],
   "source": [
    "np.unique(np.asarray(a)[:,0])"
   ]
  },
  {
   "cell_type": "code",
   "execution_count": 322,
   "id": "b32ff50d",
   "metadata": {},
   "outputs": [
    {
     "data": {
      "text/plain": [
       "[['for', 'for _ in range(int(input())):'],\n",
       " ['expression_statement', '[tab]N,X=list(map(int,input().split()))'],\n",
       " ['expression_statement', '[tab]string=[]'],\n",
       " ['while', '[tab]while N//2!=0:'],\n",
       " ['expression_statement', '[tab][tab]string.append(N%2)'],\n",
       " ['expression_statement', '[tab][tab]N=N//2'],\n",
       " ['expression_statement', '[tab]string.append(1)'],\n",
       " ['for', '[tab]for _ in range(X):'],\n",
       " ['expression_statement', '[tab][tab]p=int(input())'],\n",
       " ['if', '[tab][tab]if p==1:'],\n",
       " ['expression_statement', '[tab][tab][tab]i=int(input())'],\n",
       " ['if', '[tab][tab][tab]if i-1<len(string):'],\n",
       " ['if', '[tab][tab][tab][tab]if (string[i-1]==1):'],\n",
       " ['expression_statement', '[tab][tab][tab][tab][tab]print(\"ON\")'],\n",
       " ['continue_statement', '[tab][tab][tab][tab][tab]continue'],\n",
       " ['else', '[tab][tab][tab]else:'],\n",
       " ['expression_statement', '[tab][tab][tab][tab]print(\"OFF\")'],\n",
       " ['continue_statement', '[tab][tab][tab][tab]continue'],\n",
       " ['elif', '[tab][tab]elif p==2:'],\n",
       " ['expression_statement', '[tab][tab][tab]i =int(input())'],\n",
       " ['if', '[tab][tab][tab]if i > len(string):'],\n",
       " ['expression_statement', '[tab][tab][tab][tab]x=i-len(string)'],\n",
       " ['for', '[tab][tab][tab][tab]for _ in range(x):'],\n",
       " ['expression_statement', '[tab][tab][tab][tab][tab]string.append(0)'],\n",
       " ['expression_statement', '[tab][tab][tab][tab]string[len(string)-1]=1'],\n",
       " ['continue_statement', '[tab][tab][tab][tab]continue'],\n",
       " ['else', '[tab][tab][tab]else:'],\n",
       " ['expression_statement', '[tab][tab][tab][tab]string[i-1]=1'],\n",
       " ['continue_statement', '[tab][tab][tab][tab]continue'],\n",
       " ['elif', '[tab][tab]elif p==3:'],\n",
       " ['expression_statement', '[tab][tab][tab]i =int(input())'],\n",
       " ['if', '[tab][tab][tab]if i > len(string):'],\n",
       " ['expression_statement', '[tab][tab][tab][tab]x=i-len(string)'],\n",
       " ['for', '[tab][tab][tab][tab]for _ in range(x):'],\n",
       " ['expression_statement', '[tab][tab][tab][tab][tab]string.append(0)'],\n",
       " ['continue_statement', '[tab][tab][tab][tab]continue'],\n",
       " ['else', '[tab][tab][tab]else:'],\n",
       " ['expression_statement', '[tab][tab][tab][tab]string[i-1]=0'],\n",
       " ['continue_statement', '[tab][tab][tab][tab]continue'],\n",
       " ['else', '[tab][tab]else:'],\n",
       " ['expression_statement', '[tab][tab][tab]j,k=list(map(int,input().split()))'],\n",
       " ['if', '[tab][tab][tab]if j>len(string) or k >len(string):'],\n",
       " ['expression_statement', '[tab][tab][tab][tab]x=max(j,k)-len(string)'],\n",
       " ['for', '[tab][tab][tab][tab]for _ in range(x):'],\n",
       " ['expression_statement', '[tab][tab][tab][tab][tab]string.append(0)'],\n",
       " ['expression_statement',\n",
       "  '[tab][tab][tab][tab]string[j-1],string[k-1]=string[k-1],string[j-1]'],\n",
       " ['continue_statement', '[tab][tab][tab][tab]continue'],\n",
       " ['else', '[tab][tab][tab]else:'],\n",
       " ['expression_statement',\n",
       "  '[tab][tab][tab][tab]string[j-1],string[k-1]=string[k-1],string[j-1]'],\n",
       " ['def', 'def count_red_beads(n):'],\n",
       " ['if', '[tab]if n == 2:'],\n",
       " ['return_statement', '[tab][tab]return 0'],\n",
       " ['return_statement', '[tab]return 0'],\n",
       " ['expression_statement', 't=int(input())'],\n",
       " ['for', 'for i in range(t):'],\n",
       " ['expression_statement', ' n=int(input())'],\n",
       " ['expression_statement', ' a=list(map(int,input().split()))'],\n",
       " ['expression_statement', ' a.sort()'],\n",
       " ['expression_statement', ' s=0'],\n",
       " ['while', ' while(len(a)>1):'],\n",
       " ['expression_statement', '   a.remove(a[1])'],\n",
       " ['expression_statement', '   s=s+a[0]'],\n",
       " ['expression_statement', ' print(s)'],\n",
       " ['def', 'def positive_to_negative(binary):'],\n",
       " ['return_statement',\n",
       "  '[tab]return [1 - d if 1 in binary[i:] else d for i, d in enumerate(binary, 1)]'],\n",
       " ['def', 'def avg_diags(m):'],\n",
       " ['expression_statement', '[tab]n, avg = len(m), [[0,0], [0,0]]'],\n",
       " ['for', '[tab]for i in range(n):'],\n",
       " ['if', '[tab][tab]if i%2 and m[i][i] >= 0:'],\n",
       " ['expression_statement', '[tab][tab][tab]avg[0][0] += m[i][i]'],\n",
       " ['expression_statement', '[tab][tab][tab]avg[0][1] += 1'],\n",
       " ['return_statement',\n",
       "  '[tab]return [ round(lst[0]/lst[1]) if lst[1] != 0 else -1 for lst in avg ]'],\n",
       " ['import_statement', 'import numpy as py'],\n",
       " ['expression_statement', 'T=int(input())'],\n",
       " ['for', 'for _ in range(T):'],\n",
       " ['expression_statement', ' N,M=list(map(int,input().split()))'],\n",
       " ['expression_statement', ' l=[10]*N'],\n",
       " ['for', ' for _ in range(M):'],\n",
       " ['expression_statement', '  i,j,k=list(map(int,input().split()))'],\n",
       " ['expression_statement', '  s1=l[:i-1]'],\n",
       " ['expression_statement', '  s2=l[i-1:j]'],\n",
       " ['expression_statement', '  s3=l[j:]'],\n",
       " ['expression_statement', '  new=list(py.array(s2)*k)'],\n",
       " ['expression_statement', '  l=s1+new+s3'],\n",
       " ['expression_statement', 's=sum(l)//N'],\n",
       " ['expression_statement', 'print(s)'],\n",
       " ['def', 'def cog_RPM(cogs, n):'],\n",
       " ['expression_statement', '[tab]r=[cogs[n]/cogs[0],cogs[n]/cogs[-1]]'],\n",
       " ['if', '[tab]if n%2==1:'],\n",
       " ['expression_statement', '[tab][tab]r[0]*=-1'],\n",
       " ['if', '[tab]if (len(cogs)-n)%2==0:'],\n",
       " ['expression_statement', '[tab][tab]r[1]*=-1'],\n",
       " ['return_statement', '[tab]return r'],\n",
       " ['class', 'class Solution:'],\n",
       " ['def',\n",
       "  '[tab]def matrixBlockSum(self, mat: List[List[int]], K: int) -> List[List[int]]:'],\n",
       " ['expression_statement', '[tab][tab]rows = collections.defaultdict(list)'],\n",
       " ['for', '[tab][tab]for i,row in enumerate(mat):'],\n",
       " ['expression_statement', '[tab][tab][tab]s = 0'],\n",
       " ['for', '[tab][tab][tab]for v in row:'],\n",
       " ['expression_statement', '[tab][tab][tab][tab]s+=v'],\n",
       " ['expression_statement', '[tab][tab][tab][tab]rows[i].append(s)'],\n",
       " ['expression_statement', '[tab][tab]m,n = len(mat), len(mat[0])'],\n",
       " ['expression_statement', '[tab][tab]ans = [ [0]*n for _ in range(m) ]'],\n",
       " ['for', '[tab][tab]for i in range(m):'],\n",
       " ['for', '[tab][tab][tab]for j in range(n):'],\n",
       " ['expression_statement',\n",
       "  '[tab][tab][tab][tab]ind = [max(0,j-K), min(n-1,j+K)]'],\n",
       " ['for', '[tab][tab][tab][tab]for k in range(max(0,i-K), min(m,i+K+1)):'],\n",
       " ['expression_statement', '[tab][tab][tab][tab][tab]sum = rows[k][ind[1]]'],\n",
       " ['if_statement',\n",
       "  '[tab][tab][tab][tab][tab]if ind[0]>0: sum = rows[k][ind[1]]- rows[k][ind[0]-1]'],\n",
       " ['expression_statement', '[tab][tab][tab][tab][tab]ans[i][j]+=sum'],\n",
       " ['return_statement', '[tab][tab]return ans'],\n",
       " ['import_statement', 'import sys'],\n",
       " ['expression_statement', 'input = sys.stdin.readline'],\n",
       " ['expression_statement', 't = int(input())'],\n",
       " ['for', 'for _ in range(t):'],\n",
       " ['expression_statement', '[tab]n, k = list(map(int, input().split()))'],\n",
       " ['expression_statement', '[tab]a = list(map(int, input().split()))'],\n",
       " ['expression_statement', '[tab]r = [0] * n'],\n",
       " ['for', '[tab]for i in range(n):'],\n",
       " ['expression_statement', '[tab][tab]r[a[i] - 1] = i'],\n",
       " ['expression_statement', '[tab]b = list(map(int, input().split()))'],\n",
       " ['expression_statement', '[tab]d = [0] * n'],\n",
       " ['for', '[tab]for i in range(k):'],\n",
       " ['expression_statement', '[tab][tab]d[b[i] - 1] = 1'],\n",
       " ['expression_statement', '[tab]cnt = 0'],\n",
       " ['for', '[tab]for i in range(k):'],\n",
       " ['expression_statement', '[tab][tab]idx = r[b[i] - 1]'],\n",
       " ['expression_statement', '[tab][tab]t = 0'],\n",
       " ['if', '[tab][tab]if idx > 0 and d[a[idx - 1] - 1] == 0:'],\n",
       " ['expression_statement', '[tab][tab][tab]t += 1'],\n",
       " ['if', '[tab][tab]if idx < n - 1 and d[a[idx + 1] - 1] == 0:'],\n",
       " ['expression_statement', '[tab][tab][tab]t += 1'],\n",
       " ['if', '[tab][tab]if t == 0:'],\n",
       " ['expression_statement', '[tab][tab][tab]print(0)'],\n",
       " ['break_statement', '[tab][tab][tab]break'],\n",
       " ['expression_statement', '[tab][tab]d[b[i] - 1] = 0'],\n",
       " ['else', '[tab]else:'],\n",
       " ['expression_statement', '[tab][tab]print(pow(2, cnt, 998244353))'],\n",
       " ['for', 'for _ in range(int(input())):'],\n",
       " ['expression_statement', ' n = int(input())'],\n",
       " ['expression_statement', ' a = list(map(int, input().split()))'],\n",
       " ['expression_statement', ' curr = 0'],\n",
       " ['expression_statement', ' ans = 0'],\n",
       " ['for', ' for x in a:'],\n",
       " ['expression_statement', '  curr += x'],\n",
       " ['expression_statement', '  ans += abs(curr)'],\n",
       " ['expression_statement', ' print(ans)'],\n",
       " ['import_statement', 'import math'],\n",
       " ['def', 'def psion_power_points(level,score):'],\n",
       " ['expression_statement',\n",
       "  '[tab]day = [ 0,2,6,11,17,25,35,46,58,72,88,106,126,147,170,195,221,250,280,311,343]'],\n",
       " ['return_statement',\n",
       "  '[tab]return  math.floor(level * (score//2-5) * 0.5) + ( day[level] if level <20 else 343) if score >10 else 0'],\n",
       " ['class', 'class Solution:'],\n",
       " ['def', '[tab] def hasAlternatingBits(self, n):'],\n",
       " ['\"', '[tab][tab] \"\"\"'],\n",
       " ['\"', '[tab][tab] \"\"\"'],\n",
       " ['return_statement',\n",
       "  \"[tab][tab] return '00' not in bin(n) and '11' not in bin(n)\"],\n",
       " ['def', 'def solve(n):'],\n",
       " ['expression_statement', '[tab]l = len(str(n)) - 1'],\n",
       " ['return_statement', '[tab]return sum(map(int, str(n - 10**l + 1))) + 9*l'],\n",
       " ['class', 'class Solution:'],\n",
       " ['def', '[tab] def subarraySum(self, nums, k):'],\n",
       " ['\"', '[tab][tab] \"\"\"'],\n",
       " ['\"', '[tab][tab] \"\"\"'],\n",
       " ['expression_statement', '[tab][tab] cum_sum_dict = {}'],\n",
       " ['expression_statement', '[tab][tab] cum_sum_dict[0] = 1'],\n",
       " ['expression_statement', '[tab][tab] left_sum = 0'],\n",
       " ['expression_statement', '[tab][tab] count = 0'],\n",
       " ['for', '[tab][tab] for t in nums:'],\n",
       " ['expression_statement', '[tab][tab][tab] left_sum = left_sum + t'],\n",
       " ['if', '[tab][tab][tab] if (left_sum - k) in cum_sum_dict:'],\n",
       " ['expression_statement',\n",
       "  '[tab][tab][tab][tab] count = count + cum_sum_dict[left_sum - k]'],\n",
       " ['if', '[tab][tab][tab] if left_sum in cum_sum_dict:'],\n",
       " ['expression_statement',\n",
       "  '[tab][tab][tab][tab] cum_sum_dict[left_sum] = cum_sum_dict[left_sum] + 1'],\n",
       " ['return_statement', '[tab][tab] return count']]"
      ]
     },
     "execution_count": 322,
     "metadata": {},
     "output_type": "execute_result"
    }
   ],
   "source": [
    "a"
   ]
  },
  {
   "cell_type": "code",
   "execution_count": 353,
   "id": "83401e7b",
   "metadata": {},
   "outputs": [],
   "source": [
    "a = {\"1\": 2, \"2\": 3}"
   ]
  },
  {
   "cell_type": "code",
   "execution_count": 354,
   "id": "0221d38d",
   "metadata": {},
   "outputs": [
    {
     "data": {
      "text/plain": [
       "{'1': 2, '2': 3}"
      ]
     },
     "execution_count": 354,
     "metadata": {},
     "output_type": "execute_result"
    }
   ],
   "source": [
    "a"
   ]
  },
  {
   "cell_type": "code",
   "execution_count": 358,
   "id": "e47f082a",
   "metadata": {},
   "outputs": [
    {
     "data": {
      "text/plain": [
       "False"
      ]
     },
     "execution_count": 358,
     "metadata": {},
     "output_type": "execute_result"
    }
   ],
   "source": [
    "\"3\" in a"
   ]
  },
  {
   "cell_type": "code",
   "execution_count": 359,
   "id": "adbd4d95",
   "metadata": {},
   "outputs": [],
   "source": [
    "a = [1, 2, 3, 4]"
   ]
  },
  {
   "cell_type": "code",
   "execution_count": 361,
   "id": "deaf8970",
   "metadata": {},
   "outputs": [
    {
     "data": {
      "text/plain": [
       "False"
      ]
     },
     "execution_count": 361,
     "metadata": {},
     "output_type": "execute_result"
    }
   ],
   "source": [
    "5 in a"
   ]
  },
  {
   "cell_type": "code",
   "execution_count": null,
   "id": "feeefcbe",
   "metadata": {},
   "outputs": [],
   "source": []
  }
 ],
 "metadata": {
  "kernelspec": {
   "display_name": "Python 3 (ipykernel)",
   "language": "python",
   "name": "python3"
  },
  "language_info": {
   "codemirror_mode": {
    "name": "ipython",
    "version": 3
   },
   "file_extension": ".py",
   "mimetype": "text/x-python",
   "name": "python",
   "nbconvert_exporter": "python",
   "pygments_lexer": "ipython3",
   "version": "3.9.13"
  }
 },
 "nbformat": 4,
 "nbformat_minor": 5
}
